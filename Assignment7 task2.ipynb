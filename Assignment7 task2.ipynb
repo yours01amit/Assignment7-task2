{
 "cells": [
  {
   "cell_type": "markdown",
   "id": "42a19730",
   "metadata": {},
   "source": [
    "que1: You are writing code for a company. The requirement of the company is that you create a python\n",
    "function that will check whether the password entered by the user is correct or not. The function should\n",
    "take the password as input and return the string “Valid Password” if the entered password follows the\n",
    "below-given password guidelines else it should return “Invalid Password”.\n",
    "Note: 1. The Password should contain at least two uppercase letters and at least two lowercase letters.\n",
    "2. The Password should contain at least a number and three special characters.\n",
    "3. The length of the password should be 10 characters long."
   ]
  },
  {
   "cell_type": "code",
   "execution_count": 2,
   "id": "1a14d30f",
   "metadata": {},
   "outputs": [
    {
     "name": "stdout",
     "output_type": "stream",
     "text": [
      "Enter the password: AMIT@#$kumar1234\n",
      "Valid Password\n"
     ]
    }
   ],
   "source": [
    "class company:\n",
    "    def __init__(self, password):\n",
    "        self.password = password\n",
    "\n",
    "    def check_password(self):\n",
    "        count = 0\n",
    "        if len(self.password) >=10 :\n",
    "            count+=1\n",
    "            \n",
    "#         check atleast two upper case latter\n",
    "\n",
    "        if len([i for i in self.password if i.isupper()==True]) >=2:\n",
    "            count+=1\n",
    "            \n",
    "#         check atleast two lower case latter\n",
    "\n",
    "        if len([i for i in self.password if i.islower()==True]) >=2:\n",
    "            count+=1\n",
    "\n",
    "        if len([i for i in self.password if i.isalnum()==False ]) >=3:\n",
    "            count+=1\n",
    "            \n",
    "#          check atleast three special case character\n",
    "\n",
    "        if sum([i.isdigit() for i in self.password]) >=1:\n",
    "            count+=1\n",
    "\n",
    "        if count==5:\n",
    "            print(\"Valid Password\")\n",
    "        else:\n",
    "            print(\"Invalid Password\")\n",
    "\n",
    "\n",
    "pass_str = input(\"Enter the password: \")\n",
    "p = company(pass_str)\n",
    "p.check_password()"
   ]
  },
  {
   "cell_type": "markdown",
   "id": "a022dc84",
   "metadata": {},
   "source": [
    "Q2. Solve the below-given questions using at least one of the following:\n",
    "1. Lambda functioJ\n",
    "2. Filter functioJ\n",
    "3. Zap functioJ\n",
    "4. List ComprehensioI\n",
    "\n",
    "* Check if the string starts with a particular letter\n",
    "* Check if the string is numericY\n",
    "<!-- * Sort a list of tuples having fruit names and their quantity. [(\"mango\",99),(\"orange\",80), (\"grapes\",  1000)- -->\n",
    " Find the squares of numbers from 1 to 10\n",
    " Find the cube root of numbers from 1 to 10\n",
    " Check if a given number is even\n",
    " Filter odd numbers from the given list.\n",
    "<!-- [1,2,3,4,5,6,7,8,9,10- -->\n",
    " Sort a list of integers into positive and negative integers lists.\n",
    "<!-- [1,2,3,4,5,6,-1,-2,-3,-4,-5,0] -->"
   ]
  },
  {
   "cell_type": "code",
   "execution_count": 24,
   "id": "58f7aa77",
   "metadata": {},
   "outputs": [
    {
     "name": "stdout",
     "output_type": "stream",
     "text": [
      "Enter a letter: A\n",
      "Enter a string: s\n",
      "[\"No the string does not start with 'A'\"]\n"
     ]
    }
   ],
   "source": [
    "# check if the string starts with a particular letter\n",
    "\n",
    "letter = input(\"Enter a letter: \")\n",
    "my_string = input(\"Enter a string: \")\n",
    "result = [f\"Yes the string starts with '{letter}'\" if my_string.startswith(letter) else f\"No the string does not start with '{letter}'\"]\n",
    "print(result)"
   ]
  },
  {
   "cell_type": "code",
   "execution_count": 27,
   "id": "34e0b4ca",
   "metadata": {},
   "outputs": [
    {
     "name": "stdout",
     "output_type": "stream",
     "text": [
      "Enter the string: 738573874\n",
      "[' Yes this is numeric string: 738573874']\n"
     ]
    }
   ],
   "source": [
    "# check if the string is numeric\n",
    "\n",
    "str = input(\"Enter the string: \")\n",
    "\n",
    "result = [f\" Yes this is numeric string: {str}\" if str.isdigit() else f\"No this is not numeric string: {str}\"]\n",
    "print(result)"
   ]
  },
  {
   "cell_type": "code",
   "execution_count": 35,
   "id": "0f76fa02",
   "metadata": {},
   "outputs": [
    {
     "name": "stdout",
     "output_type": "stream",
     "text": [
      "[('orange', 80), ('mango', 99), ('grapes', 1000)]\n"
     ]
    }
   ],
   "source": [
    "#  Sort a list of tuples having fruit names and their quantity .\n",
    "# [(\"mango\",99),(\"orange\",80), (\"grapes\", 1000)]\n",
    "\n",
    "str = [(\"mango\",99),(\"orange\",80), (\"grapes\", 1000)]\n",
    "\n",
    "str.sort(key=lambda x : x[1])\n",
    "\n",
    "print(str)"
   ]
  },
  {
   "cell_type": "code",
   "execution_count": 45,
   "id": "bb9a968d",
   "metadata": {},
   "outputs": [
    {
     "name": "stdout",
     "output_type": "stream",
     "text": [
      "[1, 4, 9, 16, 25, 36, 49, 64, 81, 100]\n"
     ]
    }
   ],
   "source": [
    "# Find the squares of numbers from 1 to 10\n",
    "\n",
    "x = [i**2 for i in range(1,11)]\n",
    "print(x)\n"
   ]
  },
  {
   "cell_type": "code",
   "execution_count": 46,
   "id": "acf2f508",
   "metadata": {},
   "outputs": [
    {
     "name": "stdout",
     "output_type": "stream",
     "text": [
      "cube root [1.0, 1.4142135623730951, 1.7320508075688772, 2.0, 2.23606797749979, 2.449489742783178, 2.6457513110645907, 2.8284271247461903, 3.0] "
     ]
    }
   ],
   "source": [
    "#  find the cube root of numbers from 1 to 10\n",
    "\n",
    "\n",
    "x = [i**0.5 for i in range(1,10)]\n",
    "print(\"cube root\", x, end=\" \")\n"
   ]
  },
  {
   "cell_type": "code",
   "execution_count": 47,
   "id": "34b0f3c2",
   "metadata": {},
   "outputs": [
    {
     "name": "stdout",
     "output_type": "stream",
     "text": [
      "Enter the number: 34\n",
      "This is a even number\n"
     ]
    }
   ],
   "source": [
    "# check if a given number is even\n",
    "\n",
    "num = int(input(\"Enter the number: \"))\n",
    "x =  \"This is a even number\" if num%2==0 else \"this is odd number\"\n",
    "\n",
    "print(x)"
   ]
  },
  {
   "cell_type": "code",
   "execution_count": 48,
   "id": "538975f0",
   "metadata": {},
   "outputs": [
    {
     "name": "stdout",
     "output_type": "stream",
     "text": [
      "[1, 3, 5, 7, 9]\n"
     ]
    }
   ],
   "source": [
    "#  Filter odd numbers from the given list. [1,2,3,4,5,6,7,8,9,10]\n",
    "\n",
    "list1 = [1,2,3,4,5,6,7,8,9,10]\n",
    "\n",
    "list2 = list(filter(lambda x:x%2!=0, list1))\n",
    "print(list2)\n",
    "\n",
    "\n",
    "\n",
    "\n",
    "\n",
    "\n"
   ]
  },
  {
   "cell_type": "code",
   "execution_count": 54,
   "id": "1cf654b2",
   "metadata": {},
   "outputs": [
    {
     "name": "stdout",
     "output_type": "stream",
     "text": [
      "[-1, -2, -3, -4, -5]\n",
      "[0, 1, 2, 3, 4, 5, 6]\n"
     ]
    }
   ],
   "source": [
    "# Sort a list of integers into positive and negative integers lists. [1,2,3,4,5,6,-1,-2,-3,-4,-5,0]\n",
    "\n",
    "list1 = [1,2,3,4,5,6,-1,-2,-3,-4,-5,0]\n",
    "\n",
    "list2 = [i for i in list1 if i<0]\n",
    "list3 = [i for i in list1 if i>=0]\n",
    "list3.sort()\n",
    "\n",
    "print(list2)\n",
    "print(list3)"
   ]
  },
  {
   "cell_type": "code",
   "execution_count": null,
   "id": "dc5a38b5",
   "metadata": {},
   "outputs": [],
   "source": []
  }
 ],
 "metadata": {
  "kernelspec": {
   "display_name": "Python 3 (ipykernel)",
   "language": "python",
   "name": "python3"
  },
  "language_info": {
   "codemirror_mode": {
    "name": "ipython",
    "version": 3
   },
   "file_extension": ".py",
   "mimetype": "text/x-python",
   "name": "python",
   "nbconvert_exporter": "python",
   "pygments_lexer": "ipython3",
   "version": "3.11.0"
  }
 },
 "nbformat": 4,
 "nbformat_minor": 5
}
